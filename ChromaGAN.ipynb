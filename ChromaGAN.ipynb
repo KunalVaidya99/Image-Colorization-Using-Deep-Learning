{
  "nbformat": 4,
  "nbformat_minor": 0,
  "metadata": {
    "colab": {
      "name": "ChromaGAN.ipynb",
      "provenance": [],
      "collapsed_sections": [],
      "include_colab_link": true
    },
    "kernelspec": {
      "name": "python3",
      "display_name": "Python 3"
    },
    "accelerator": "GPU"
  },
  "cells": [
    {
      "cell_type": "markdown",
      "metadata": {
        "id": "view-in-github",
        "colab_type": "text"
      },
      "source": [
        "<a href=\"https://colab.research.google.com/github/KunalVaidya99/Image-Colorization-Using-Deep-Learning/blob/main/ChromaGAN.ipynb\" target=\"_parent\"><img src=\"https://colab.research.google.com/assets/colab-badge.svg\" alt=\"Open In Colab\"/></a>"
      ]
    },
    {
      "cell_type": "code",
      "metadata": {
        "id": "zA8bcFbU0-VF",
        "outputId": "e47ec0c0-01a4-412c-f53d-366582d8d1bf",
        "colab": {
          "base_uri": "https://localhost:8080/"
        }
      },
      "source": [
        "%tensorflow_version 1.x"
      ],
      "execution_count": 1,
      "outputs": [
        {
          "output_type": "stream",
          "text": [
            "TensorFlow 1.x selected.\n"
          ],
          "name": "stdout"
        }
      ]
    },
    {
      "cell_type": "code",
      "metadata": {
        "id": "CswEHXhU1YDR",
        "outputId": "7dfeb64d-12b7-4c12-a314-083750a593cc",
        "colab": {
          "base_uri": "https://localhost:8080/"
        }
      },
      "source": [
        "from google.colab import drive\n",
        "drive.mount(\"/content/gdrive/\")"
      ],
      "execution_count": 2,
      "outputs": [
        {
          "output_type": "stream",
          "text": [
            "Mounted at /content/gdrive/\n"
          ],
          "name": "stdout"
        }
      ]
    },
    {
      "cell_type": "code",
      "metadata": {
        "id": "zaoB1Kbu1iXX",
        "outputId": "d48119e0-e33c-4ea6-9bf8-bd7272a2d050",
        "colab": {
          "base_uri": "https://localhost:8080/"
        }
      },
      "source": [
        "import tensorflow as tf\n",
        "import keras\n",
        "import keras.backend as K\n",
        "from keras.layers import (Conv2D,Conv2DTranspose,UpSampling2D,MaxPooling2D,Input\n",
        "                          ,Activation,Concatenate,BatchNormalization,Flatten,Concatenate\n",
        "                          ,Dense,RepeatVector,Reshape)\n",
        "from keras.optimizers import Adam\n",
        "from keras.layers.advanced_activations import LeakyReLU\n",
        "from keras.utils import plot_model\n",
        "from keras.models import Model,Sequential\n",
        "import numpy as np\n",
        "from keras.preprocessing.image import load_img\n",
        "from PIL import Image\n",
        "import os\n",
        "import matplotlib.pyplot as plt\n",
        "import pickle\n",
        "import random\n",
        "import progressbar\n",
        "from skimage.color import gray2rgb\n",
        "import matplotlib.pyplot as plt\n",
        "from keras.callbacks import ModelCheckpoint\n",
        "from keras.applications import VGG16\n",
        "from keras.preprocessing.image import load_img,img_to_array"
      ],
      "execution_count": 3,
      "outputs": [
        {
          "output_type": "stream",
          "text": [
            "Using TensorFlow backend.\n"
          ],
          "name": "stderr"
        }
      ]
    },
    {
      "cell_type": "markdown",
      "metadata": {
        "id": "JWGloSyGgyav"
      },
      "source": [
        "Extracting Features for all images using VGG16"
      ]
    },
    {
      "cell_type": "code",
      "metadata": {
        "id": "eKF4y_Cc2pe0",
        "outputId": "0e762439-a7b4-4e0a-cd40-06cd5e52b8d6",
        "colab": {
          "base_uri": "https://localhost:8080/"
        }
      },
      "source": [
        "def extract_features(directory):\n",
        "\n",
        "  model = VGG16(include_top=True,weights=\"imagenet\",classes=1000)\n",
        "  features = dict()\n",
        "  count = 0\n",
        "  for filename in os.listdir(directory):\n",
        "   \n",
        "    image = load_img(directory+filename,target_size=(224,224))\n",
        "    img_array = img_to_array(image)\n",
        "    img_array = img_array.reshape((1,224,224,3))\n",
        "    feature = model.predict(img_array)\n",
        "    features[filename] = feature\n",
        "    count = count + 1\n",
        "\n",
        "    if (count%1000==0):\n",
        "      print(\"Completed Feature Extraction Of \" + f\"{count}\") \n",
        "\n",
        "  return features\n",
        "\n",
        "directory = \"/content/gdrive/My Drive/val_256/\"\n",
        "features = extract_features(directory)       "
      ],
      "execution_count": null,
      "outputs": [
        {
          "output_type": "stream",
          "text": [
            "WARNING:tensorflow:From /tensorflow-1.15.2/python3.6/keras/backend/tensorflow_backend.py:422: The name tf.global_variables is deprecated. Please use tf.compat.v1.global_variables instead.\n",
            "\n",
            "Completed Feature Extraction Of 1000\n",
            "Completed Feature Extraction Of 2000\n",
            "Completed Feature Extraction Of 3000\n",
            "Completed Feature Extraction Of 4000\n",
            "Completed Feature Extraction Of 5000\n",
            "Completed Feature Extraction Of 6000\n",
            "Completed Feature Extraction Of 7000\n",
            "Completed Feature Extraction Of 8000\n",
            "Completed Feature Extraction Of 9000\n",
            "Completed Feature Extraction Of 10000\n",
            "Completed Feature Extraction Of 11000\n",
            "Completed Feature Extraction Of 12000\n",
            "Completed Feature Extraction Of 13000\n",
            "Completed Feature Extraction Of 14000\n",
            "Completed Feature Extraction Of 15000\n",
            "Completed Feature Extraction Of 16000\n",
            "Completed Feature Extraction Of 17000\n",
            "Completed Feature Extraction Of 18000\n",
            "Completed Feature Extraction Of 19000\n",
            "Completed Feature Extraction Of 20000\n",
            "Completed Feature Extraction Of 21000\n",
            "Completed Feature Extraction Of 22000\n",
            "Completed Feature Extraction Of 23000\n",
            "Completed Feature Extraction Of 24000\n",
            "Completed Feature Extraction Of 25000\n",
            "Completed Feature Extraction Of 26000\n",
            "Completed Feature Extraction Of 27000\n",
            "Completed Feature Extraction Of 28000\n",
            "Completed Feature Extraction Of 29000\n",
            "Completed Feature Extraction Of 30000\n",
            "Completed Feature Extraction Of 31000\n",
            "Completed Feature Extraction Of 32000\n",
            "Completed Feature Extraction Of 33000\n",
            "Completed Feature Extraction Of 34000\n",
            "Completed Feature Extraction Of 35000\n",
            "Completed Feature Extraction Of 36000\n",
            "Completed Feature Extraction Of 37000\n",
            "Completed Feature Extraction Of 38000\n",
            "Completed Feature Extraction Of 39000\n",
            "Completed Feature Extraction Of 40000\n",
            "Completed Feature Extraction Of 41000\n",
            "Completed Feature Extraction Of 42000\n",
            "Completed Feature Extraction Of 43000\n",
            "Completed Feature Extraction Of 44000\n",
            "Completed Feature Extraction Of 45000\n",
            "Completed Feature Extraction Of 46000\n",
            "Completed Feature Extraction Of 47000\n",
            "Completed Feature Extraction Of 48000\n",
            "Completed Feature Extraction Of 49000\n",
            "Completed Feature Extraction Of 50000\n",
            "Completed Feature Extraction Of 51000\n",
            "Completed Feature Extraction Of 52000\n",
            "Completed Feature Extraction Of 53000\n",
            "Completed Feature Extraction Of 54000\n",
            "Completed Feature Extraction Of 55000\n",
            "Completed Feature Extraction Of 56000\n",
            "Completed Feature Extraction Of 57000\n",
            "Completed Feature Extraction Of 58000\n",
            "Completed Feature Extraction Of 59000\n",
            "Completed Feature Extraction Of 60000\n",
            "Completed Feature Extraction Of 61000\n",
            "Completed Feature Extraction Of 62000\n",
            "Completed Feature Extraction Of 63000\n",
            "Completed Feature Extraction Of 64000\n"
          ],
          "name": "stdout"
        }
      ]
    },
    {
      "cell_type": "code",
      "metadata": {
        "id": "-6GuKhL-5-aT"
      },
      "source": [
        "import pickle\n",
        "f = open(\"/content/gdrive/My Drive/ImageColorization /chromaVGG16.pkl\",\"wb\")\n",
        "pickle.dump(features,f)\n",
        "f.close()"
      ],
      "execution_count": null,
      "outputs": []
    },
    {
      "cell_type": "code",
      "metadata": {
        "id": "CoHf2gb8yFA_"
      },
      "source": [
        "f_new = open(\"/content/gdrive/My Drive/ImageColorization /chromaVGG16.pkl\",\"rb\")\n",
        "features_new = pickle.load(f_new)\n",
        "f_new.close()"
      ],
      "execution_count": 4,
      "outputs": []
    },
    {
      "cell_type": "code",
      "metadata": {
        "id": "NYtomIhCJfZf"
      },
      "source": [
        "class DataGenerator():\n",
        "\n",
        "  def __init__(self,features,directory,dim=(224,224),batch_size=32,n_channels=3):\n",
        "    \n",
        "    self.directory = directory\n",
        "    self.dim = dim\n",
        "    self.batch_size=batch_size\n",
        "    self.n_channels = n_channels\n",
        "    self.features = features\n",
        "    \n",
        "\n",
        "  def epoch_end(self,filenames):\n",
        "    np.random.shuffle(filenames)\n",
        "\n",
        "  def generate_batch(self,step_number,filenames):\n",
        "    \n",
        "\n",
        "    batch_filenames = filenames[step_number*self.batch_size:(step_number+1)*self.batch_size]\n",
        "\n",
        "    gray_image = np.empty((self.batch_size,*self.dim,self.n_channels))\n",
        "    color_image = np.empty((self.batch_size,*self.dim,self.n_channels))\n",
        "    VGG16_target = np.empty((self.batch_size,1000))\n",
        "    count = 0\n",
        "\n",
        "\n",
        "    for filename in batch_filenames:\n",
        "      image = Image.open(self.directory +\"/\" + filename)\n",
        "      image = image.resize((224,224))\n",
        "\n",
        "\n",
        "      if (np.array(image).shape==(224,224,3)):\n",
        "        \n",
        "        gray = (np.array(image.convert(\"L\")))\n",
        "        gray_image[count] = gray2rgb(gray)/255\n",
        "        color_image[count] = np.array(image)/255\n",
        "        VGG16_target[count] = self.features[filename]\n",
        "        count = count + 1\n",
        "\n",
        "    return gray_image,color_image,VGG16_target    "
      ],
      "execution_count": 5,
      "outputs": []
    },
    {
      "cell_type": "code",
      "metadata": {
        "id": "ACE0LabGvNW5"
      },
      "source": [
        "def patch_discriminator(img_shape):\n",
        "\n",
        "  input_img = Input(shape=img_shape)\n",
        "\n",
        "  X = Conv2D(filters=64,kernel_size=(4,4),strides=(2,2),padding='same')(input_img)\n",
        "  X = BatchNormalization(axis=-1)(X)\n",
        "  X = LeakyReLU(alpha=0.2)(X)\n",
        "\n",
        "  X = Conv2D(filters=128,kernel_size=(4,4),strides=(2,2),padding='same')(X)\n",
        "  X = BatchNormalization(axis=-1)(X)\n",
        "  X = LeakyReLU(alpha=0.2)(X)\n",
        "\n",
        "  X = Conv2D(filters=256,kernel_size=(4,4),strides=(2,2),padding='same')(X)\n",
        "  X = BatchNormalization(axis=-1)(X)\n",
        "  X = LeakyReLU(alpha=0.2)(X)\n",
        "\n",
        "  X = Conv2D(filters=512,kernel_size=(4,4),strides=(1,1),padding='same')(X)\n",
        "  X = BatchNormalization(axis=-1)(X)\n",
        "  X = LeakyReLU(alpha=0.2)(X)\n",
        "\n",
        "  X = Conv2D(filters=1,kernel_size=(4,4),strides=(1,1),padding='same')(X)\n",
        " \n",
        "  model = Model(inputs=input_img,outputs=X)\n",
        "\n",
        "  return model\n"
      ],
      "execution_count": 6,
      "outputs": []
    },
    {
      "cell_type": "code",
      "metadata": {
        "id": "FgukDnq_8Uv0",
        "outputId": "8ea43c44-30c3-4f8d-cc9b-46050595ed34",
        "colab": {
          "base_uri": "https://localhost:8080/"
        }
      },
      "source": [
        " VGG16model = VGG16(include_top=False,weights=\"imagenet\",classes=1000)\n",
        " #for layer in VGG16model.layers:\n",
        "  # layer.trainable = False"
      ],
      "execution_count": 7,
      "outputs": [
        {
          "output_type": "stream",
          "text": [
            "WARNING:tensorflow:From /tensorflow-1.15.2/python3.6/tensorflow_core/python/ops/resource_variable_ops.py:1630: calling BaseResourceVariable.__init__ (from tensorflow.python.ops.resource_variable_ops) with constraint is deprecated and will be removed in a future version.\n",
            "Instructions for updating:\n",
            "If using Keras pass *_constraint arguments to layers.\n",
            "WARNING:tensorflow:From /tensorflow-1.15.2/python3.6/keras/backend/tensorflow_backend.py:4070: The name tf.nn.max_pool is deprecated. Please use tf.nn.max_pool2d instead.\n",
            "\n",
            "Downloading data from https://github.com/fchollet/deep-learning-models/releases/download/v0.1/vgg16_weights_tf_dim_ordering_tf_kernels_notop.h5\n",
            "58892288/58889256 [==============================] - 1s 0us/step\n"
          ],
          "name": "stdout"
        }
      ]
    },
    {
      "cell_type": "code",
      "metadata": {
        "id": "MVp9NhQx8IZP"
      },
      "source": [
        "def generator(img_shape):\n",
        "\n",
        "  input_img = Input(shape=img_shape)\n",
        "  X = input_img\n",
        "\n",
        "  for layer in VGG16model.layers[1:-6]:\n",
        "    X = layer(X)\n",
        "    \n",
        "  VGG16_output = X \n",
        "  #print(VGG16_output.shape)\n",
        "  X = Conv2D(filters=512,kernel_size=(3,3),strides=(2,2),padding=\"same\")(X)\n",
        "  X = BatchNormalization(axis=-1)(X)\n",
        "  X = Activation('relu')(X)\n",
        "\n",
        "  X = Conv2D(filters=512,kernel_size=(3,3),strides=(1,1),padding=\"same\")(X)\n",
        "  X = BatchNormalization(axis=-1)(X)\n",
        "  X = Activation('relu')(X)\n",
        "\n",
        "  X = Conv2D(filters=512,kernel_size=(3,3),strides=(2,2),padding=\"same\")(X)\n",
        "  X = BatchNormalization(axis=-1)(X)\n",
        "  X = Activation('relu')(X)\n",
        "\n",
        "  X = Conv2D(filters=512,kernel_size=(3,3),strides=(1,1),padding=\"same\")(X)\n",
        "  X = BatchNormalization(axis=-1)(X)\n",
        "  X = Activation('relu')(X)\n",
        "\n",
        "  color_distribution = Flatten()(X)\n",
        "  color_distribution = Dense(units=4096)(color_distribution)\n",
        "  color_distribution = Dense(units=4096)(color_distribution)\n",
        "  color_distribution = Dense(units=1000,activation='softmax',name='colordistribution')(color_distribution)\n",
        "\n",
        "  fusion = Flatten()(X)\n",
        "  fusion = Dense(units=1024)(fusion)\n",
        "  fusion = Dense(units=512)(fusion)\n",
        "  fusion = Dense(units=256)(fusion)\n",
        "  fusion = RepeatVector(28*28)(fusion)\n",
        "  fusion = Reshape((28,28,256))(fusion)\n",
        "\n",
        "  encoder_output = Conv2D(filters=512,kernel_size=(3,3),strides=(1,1),padding=\"same\")(VGG16_output)\n",
        "  encoder_output = BatchNormalization(axis=-1)(encoder_output)\n",
        "  encoder_output = Activation('relu')(encoder_output)\n",
        "  encoder_output = Conv2D(filters=256,kernel_size=(3,3),strides=(1,1),padding=\"same\")(VGG16_output)\n",
        "  encoder_output = BatchNormalization(axis=-1)(encoder_output)\n",
        "  encoder_output = Activation('relu')(encoder_output)\n",
        "\n",
        "  encoder_output = Concatenate(axis=-1)([encoder_output,fusion])\n",
        "\n",
        "  decoder = Conv2D(filters=256,kernel_size=(1,1),strides=(1,1),activation='relu',padding='same')(encoder_output)\n",
        "  decoder = Conv2D(filters=128,kernel_size=(3,3),strides=(1,1),activation='relu',padding='same')(decoder)\n",
        "  decoder = UpSampling2D((2,2))(decoder)\n",
        "\n",
        "  decoder = Conv2D(filters=64,kernel_size=(3,3),strides=(1,1),padding='same',activation='relu')(decoder)\n",
        "  decoder = Conv2D(filters=64,kernel_size=(3,3),strides=(1,1),padding='same',activation='relu')(decoder)\n",
        "  decoder = UpSampling2D((2,2))(decoder)\n",
        "\n",
        "  decoder = Conv2D(filters=32,kernel_size=(3,3),strides=(1,1),padding='same',activation='relu')(decoder)\n",
        "  decoder = Conv2D(filters=3,kernel_size=(3,3),strides=(1,1),padding='same',activation='sigmoid')(decoder)\n",
        "  decoder = UpSampling2D((2,2))(decoder)\n",
        "\n",
        "\n",
        "  model = Model(inputs=input_img,outputs=[decoder,color_distribution])\n",
        "\n",
        "  return model"
      ],
      "execution_count": 9,
      "outputs": []
    },
    {
      "cell_type": "code",
      "metadata": {
        "id": "_YK3gdNdGsRz"
      },
      "source": [
        "def chromaGAN(img_shape,discriminator,generator):\n",
        "  X = Input(img_shape)\n",
        "  image,color_distribution = generator(X)\n",
        "  output = discriminator(image)\n",
        "  model = Model(inputs=X,outputs=[image,color_distribution,output])\n",
        "  return model"
      ],
      "execution_count": 10,
      "outputs": []
    },
    {
      "cell_type": "code",
      "metadata": {
        "id": "UhLxJUnFNhv-"
      },
      "source": [
        "chromaGAN = chromaGAN((224,224,3),patch_discriminator,generator)"
      ],
      "execution_count": null,
      "outputs": []
    },
    {
      "cell_type": "code",
      "metadata": {
        "id": "16z-7oN3Mk20"
      },
      "source": [
        "opt = Adam(learning_rate=0.00002,beta_1=0.9,beta_2=0.999)\n",
        "patch_discriminator = patch_discriminator((224,224,3))\n",
        "patch_discriminator.compile(optimizer=opt,loss='binary_crossentropy',loss_weights=[1])\n",
        "generator = generator((224,224,3))\n",
        "patch_discriminator.trainable = False\n",
        "chromaGAN = chromaGAN((224,224,3),patch_discriminator,generator)\n",
        "chromaGAN.compile(optimizer=opt,loss=[\"mse\",keras.losses.kullback_leibler_divergence,'binary_crossentropy'],loss_weights=[5,0.003,0.1])"
      ],
      "execution_count": 11,
      "outputs": []
    },
    {
      "cell_type": "code",
      "metadata": {
        "id": "OMleCSntUjuE"
      },
      "source": [
        "def summarize_performance(step,generator,gray_images,color_images,name = \"Colorizer\"):\n",
        "  n_samples = 5\n",
        "  \n",
        "\n",
        "  images,_ = generator.predict(gray_images)\n",
        "  for i in range(n_samples):\n",
        "    plt.subplot(3, n_samples, 1 +i)\n",
        "    plt.axis('off')\n",
        "    plt.imshow(images[i])\n",
        "    plt.title(\"Predicted\")\n",
        "  \n",
        "  for i in range(n_samples):\n",
        "    plt.subplot(3, n_samples, 1 + n_samples + i)\n",
        "    plt.axis('off')\n",
        "    plt.imshow(gray_images[i])\n",
        "    plt.title(\"Gray\")\n",
        "\n",
        "  for i in range(n_samples):\n",
        "    plt.subplot(3, n_samples, 1 + 2*n_samples+i)\n",
        "    plt.axis('off')\n",
        "    plt.imshow(color_images[i])\n",
        "    plt.title(\"GT\")\n",
        "  \n",
        "\n",
        "  filename1 = '%s_generated_plot_%06d.png' % (name, (step+1))\n",
        "  plt.savefig(filename1)\n",
        "  plt.close()"
      ],
      "execution_count": 12,
      "outputs": []
    },
    {
      "cell_type": "code",
      "metadata": {
        "id": "XIyYJMjank_o"
      },
      "source": [
        "def train(generator,discriminator,chromaGAN,batch_size,epochs):\n",
        "  \n",
        "  directory = \"/content/gdrive/My Drive/val_256/\"\n",
        "  n_steps = int(len(os.listdir(directory))/batch_size)\n",
        "  filenames = os.listdir(directory)\n",
        "  DataLoader = DataGenerator(features_new,directory,batch_size=batch_size)\n",
        "\n",
        "\n",
        "  for epoch in range(epochs):\n",
        "    DataLoader.epoch_end(filenames)\n",
        "    print(\"**********************EPOCH \"+f\"{epoch+1}\" + \" *********************\")\n",
        "    print(\"\\n\")\n",
        "\n",
        "    for step in progressbar.progressbar(range(n_steps)):\n",
        "\n",
        "      gray_batch,color_batch,VGG16batch = DataLoader.generate_batch(step,filenames)\n",
        "      \n",
        "      \n",
        "      gray_batch_gen,color_batch_gen,VGG16batch_gen = DataLoader.generate_batch(n_steps-step,filenames)\n",
        "\n",
        "      fake_images,_ = generator.predict(x=gray_batch)\n",
        "      real = np.ones((batch_size,28,28,1))\n",
        "      fake = np.zeros((batch_size,28,28,1))\n",
        "\n",
        "      d_loss1 = discriminator.train_on_batch(x=color_batch,y=real)\n",
        "      d_loss2 = discriminator.train_on_batch(x=fake_images,y=fake)\n",
        "      d_loss = [d_loss1,d_loss2]\n",
        "\n",
        "      g_loss = chromaGAN.train_on_batch(x=gray_batch_gen,y=[color_batch_gen,VGG16batch_gen,real])\n",
        "\n",
        "      if ((step+1)%50==0):\n",
        "        \n",
        "        idx1 = np.random.randint(0,n_steps)\n",
        "        gray_images,color_images,_ = DataLoader.generate_batch(idx1,filenames)\n",
        "        summarize_performance(step,generator,gray_images[:5],color_images[:5])\n",
        "        print(\"Step Number :\",step+1,sep=\"  \")\n",
        "        print(\"Generator Loss :\",g_loss,sep=\"  \")\n",
        "        print(\"Discriminator Loss :\",d_loss)\n",
        "        print(\"\\n\")\n",
        "\n",
        "      if ((step+1)%1==0):\n",
        "        filename_disc = \"content/gdrive/My Drive/ImageColorization /chromaGAN/\" + \"disc_\"+ \"epoch\" + f\"{epoch+1}\" +\"_\" + \"step no.\" + f\"{step+1}\" +\".h5\"\n",
        "        filename_gen = \"content/gdrive/My Drive/ImageColorization /chromaGAN/\" + \"gen_\"+ \"epoch\" + f\"{epoch+1}\" +\"_\" + \"step no.\" + f\"{step+1}\" +\".h5\"\n",
        "        discriminator.save_weights(filename_disc)\n",
        "        generator.save_weights(filename_gen)\n",
        "\n"
      ],
      "execution_count": 13,
      "outputs": []
    },
    {
      "cell_type": "code",
      "metadata": {
        "id": "xKDoqJLKy8pV",
        "outputId": "91dc1d13-ce6a-4095-98f0-cbaf044c155c",
        "colab": {
          "base_uri": "https://localhost:8080/"
        }
      },
      "source": [
        "train(generator,patch_discriminator,chromaGAN,batch_size=32,epochs=10)"
      ],
      "execution_count": null,
      "outputs": [
        {
          "output_type": "stream",
          "text": [
            "\r                                                                               \r\rN/A% (0 of 2030) |                       | Elapsed Time: 0:00:00 ETA:  --:--:--"
          ],
          "name": "stderr"
        },
        {
          "output_type": "stream",
          "text": [
            "**********************EPOCH 1 *********************\n",
            "\n",
            "\n"
          ],
          "name": "stdout"
        },
        {
          "output_type": "stream",
          "text": [
            "/tensorflow-1.15.2/python3.6/keras/engine/training.py:297: UserWarning: Discrepancy between trainable weights and collected trainable weights, did you set `model.trainable` without calling `model.compile` after ?\n",
            "  'Discrepancy between trainable weights and collected trainable'\n",
            "  0% (1 of 2030) |                       | Elapsed Time: 0:00:15 ETA:   8:35:08/tensorflow-1.15.2/python3.6/keras/engine/training.py:297: UserWarning: Discrepancy between trainable weights and collected trainable weights, did you set `model.trainable` without calling `model.compile` after ?\n",
            "  'Discrepancy between trainable weights and collected trainable'\n",
            "  2% (50 of 2030) |                      | Elapsed Time: 0:01:29 ETA:   1:06:22"
          ],
          "name": "stderr"
        },
        {
          "output_type": "stream",
          "text": [
            "Step Number :  50\n",
            "Generator Loss :  [1.2562902, 0.1027507, 4.1819563, 7.299908]\n",
            "Discriminator Loss : [7.20425, 3.883712]\n",
            "\n",
            "\n"
          ],
          "name": "stdout"
        },
        {
          "output_type": "stream",
          "text": [
            "  4% (100 of 2030) |#                    | Elapsed Time: 0:02:44 ETA:   1:04:31"
          ],
          "name": "stderr"
        },
        {
          "output_type": "stream",
          "text": [
            "Step Number :  100\n",
            "Generator Loss :  [1.03706, 0.08781433, 3.7963772, 5.865993]\n",
            "Discriminator Loss : [5.810785, 3.1810813]\n",
            "\n",
            "\n"
          ],
          "name": "stdout"
        },
        {
          "output_type": "stream",
          "text": [
            "  7% (150 of 2030) |#                    | Elapsed Time: 0:03:59 ETA:   1:07:34"
          ],
          "name": "stderr"
        },
        {
          "output_type": "stream",
          "text": [
            "Step Number :  150\n",
            "Generator Loss :  [1.1744304, 0.09934614, 3.5381913, 6.6708503]\n",
            "Discriminator Loss : [6.2746377, 5.8337564]\n",
            "\n",
            "\n"
          ],
          "name": "stdout"
        },
        {
          "output_type": "stream",
          "text": [
            "  9% (200 of 2030) |##                   | Elapsed Time: 0:05:13 ETA:   1:01:04"
          ],
          "name": "stderr"
        },
        {
          "output_type": "stream",
          "text": [
            "Step Number :  200\n",
            "Generator Loss :  [1.1607313, 0.098042734, 3.2060676, 6.608995]\n",
            "Discriminator Loss : [6.029337, 6.4791408]\n",
            "\n",
            "\n"
          ],
          "name": "stdout"
        },
        {
          "output_type": "stream",
          "text": [
            " 12% (250 of 2030) |##                   | Elapsed Time: 0:06:28 ETA:   1:00:19"
          ],
          "name": "stderr"
        },
        {
          "output_type": "stream",
          "text": [
            "Step Number :  250\n",
            "Generator Loss :  [1.5446355, 0.14790244, 3.4884973, 7.9465775]\n",
            "Discriminator Loss : [5.7873807, 3.398072]\n",
            "\n",
            "\n"
          ],
          "name": "stdout"
        },
        {
          "output_type": "stream",
          "text": [
            " 14% (300 of 2030) |###                  | Elapsed Time: 0:07:42 ETA:   0:49:52"
          ],
          "name": "stderr"
        },
        {
          "output_type": "stream",
          "text": [
            "Step Number :  300\n",
            "Generator Loss :  [1.2761999, 0.11054627, 3.5366616, 7.1285863]\n",
            "Discriminator Loss : [5.596803, 5.7974]\n",
            "\n",
            "\n"
          ],
          "name": "stdout"
        },
        {
          "output_type": "stream",
          "text": [
            " 17% (350 of 2030) |###                  | Elapsed Time: 0:08:56 ETA:   0:48:39"
          ],
          "name": "stderr"
        },
        {
          "output_type": "stream",
          "text": [
            "Step Number :  350\n",
            "Generator Loss :  [1.7190738, 0.14531428, 3.5696669, 9.817933]\n",
            "Discriminator Loss : [5.5768294, 1.5099058]\n",
            "\n",
            "\n"
          ],
          "name": "stdout"
        },
        {
          "output_type": "stream",
          "text": [
            " 19% (400 of 2030) |####                 | Elapsed Time: 0:10:10 ETA:   0:46:50"
          ],
          "name": "stderr"
        },
        {
          "output_type": "stream",
          "text": [
            "Step Number :  400\n",
            "Generator Loss :  [1.3078091, 0.08002418, 3.483958, 8.9723625]\n",
            "Discriminator Loss : [7.4080014, 3.6435883]\n",
            "\n",
            "\n"
          ],
          "name": "stdout"
        },
        {
          "output_type": "stream",
          "text": [
            " 22% (450 of 2030) |####                 | Elapsed Time: 0:11:24 ETA:   0:45:16"
          ],
          "name": "stderr"
        },
        {
          "output_type": "stream",
          "text": [
            "Step Number :  450\n",
            "Generator Loss :  [1.201828, 0.08631745, 3.3716347, 7.6012588]\n",
            "Discriminator Loss : [7.4971514, 3.2668326]\n",
            "\n",
            "\n"
          ],
          "name": "stdout"
        },
        {
          "output_type": "stream",
          "text": [
            " 24% (500 of 2030) |#####                | Elapsed Time: 0:12:38 ETA:   0:56:14"
          ],
          "name": "stderr"
        },
        {
          "output_type": "stream",
          "text": [
            "Step Number :  500\n",
            "Generator Loss :  [1.2045665, 0.087016925, 3.2064548, 7.598624]\n",
            "Discriminator Loss : [7.5730243, 4.9657364]\n",
            "\n",
            "\n"
          ],
          "name": "stdout"
        },
        {
          "output_type": "stream",
          "text": [
            " 27% (550 of 2030) |#####                | Elapsed Time: 0:13:52 ETA:   0:42:34"
          ],
          "name": "stderr"
        },
        {
          "output_type": "stream",
          "text": [
            "Step Number :  550\n",
            "Generator Loss :  [1.2474825, 0.0879882, 3.6017494, 7.9673624]\n",
            "Discriminator Loss : [7.208618, 2.2906628]\n",
            "\n",
            "\n"
          ],
          "name": "stdout"
        },
        {
          "output_type": "stream",
          "text": [
            " 29% (600 of 2030) |######               | Elapsed Time: 0:15:06 ETA:   0:40:53"
          ],
          "name": "stderr"
        },
        {
          "output_type": "stream",
          "text": [
            "Step Number :  600\n",
            "Generator Loss :  [1.1311911, 0.07738125, 3.3872297, 7.3412313]\n",
            "Discriminator Loss : [6.243209, 3.2842536]\n",
            "\n",
            "\n"
          ],
          "name": "stdout"
        },
        {
          "output_type": "stream",
          "text": [
            " 32% (650 of 2030) |######               | Elapsed Time: 0:16:20 ETA:   0:39:29"
          ],
          "name": "stderr"
        },
        {
          "output_type": "stream",
          "text": [
            "Step Number :  650\n",
            "Generator Loss :  [0.9805765, 0.06827202, 3.2885902, 6.2935066]\n",
            "Discriminator Loss : [5.5886846, 8.137775]\n",
            "\n",
            "\n"
          ],
          "name": "stdout"
        },
        {
          "output_type": "stream",
          "text": [
            " 34% (700 of 2030) |#######              | Elapsed Time: 0:17:34 ETA:   0:38:10"
          ],
          "name": "stderr"
        },
        {
          "output_type": "stream",
          "text": [
            "Step Number :  700\n",
            "Generator Loss :  [0.991241, 0.07333339, 3.0620286, 6.153879]\n",
            "Discriminator Loss : [6.2239914, 7.853227]\n",
            "\n",
            "\n"
          ],
          "name": "stdout"
        },
        {
          "output_type": "stream",
          "text": [
            " 36% (750 of 2030) |#######              | Elapsed Time: 0:18:48 ETA:   0:36:41"
          ],
          "name": "stderr"
        },
        {
          "output_type": "stream",
          "text": [
            "Step Number :  750\n",
            "Generator Loss :  [0.96404064, 0.07338961, 3.4254706, 5.8681617]\n",
            "Discriminator Loss : [6.016491, 8.313104]\n",
            "\n",
            "\n"
          ],
          "name": "stdout"
        },
        {
          "output_type": "stream",
          "text": [
            " 39% (800 of 2030) |########             | Elapsed Time: 0:20:02 ETA:   0:35:29"
          ],
          "name": "stderr"
        },
        {
          "output_type": "stream",
          "text": [
            "Step Number :  800\n",
            "Generator Loss :  [0.98668253, 0.07170837, 3.4909358, 6.176679]\n",
            "Discriminator Loss : [6.2870407, 6.1501255]\n",
            "\n",
            "\n"
          ],
          "name": "stdout"
        },
        {
          "output_type": "stream",
          "text": [
            " 41% (850 of 2030) |########             | Elapsed Time: 0:21:16 ETA:   0:39:23"
          ],
          "name": "stderr"
        },
        {
          "output_type": "stream",
          "text": [
            "Step Number :  850\n",
            "Generator Loss :  [1.3638438, 0.083365954, 2.9783134, 9.380791]\n",
            "Discriminator Loss : [8.250141, 2.1447163]\n",
            "\n",
            "\n"
          ],
          "name": "stdout"
        },
        {
          "output_type": "stream",
          "text": [
            " 44% (900 of 2030) |#########            | Elapsed Time: 0:22:31 ETA:   0:44:04"
          ],
          "name": "stderr"
        },
        {
          "output_type": "stream",
          "text": [
            "Step Number :  900\n",
            "Generator Loss :  [1.5574459, 0.09638696, 3.451128, 10.651576]\n",
            "Discriminator Loss : [7.381057, 0.9529248]\n",
            "\n",
            "\n"
          ],
          "name": "stdout"
        },
        {
          "output_type": "stream",
          "text": [
            " 46% (950 of 2030) |#########            | Elapsed Time: 0:23:45 ETA:   0:31:15"
          ],
          "name": "stderr"
        },
        {
          "output_type": "stream",
          "text": [
            "Step Number :  950\n",
            "Generator Loss :  [1.2636437, 0.08301574, 3.2927966, 8.386866]\n",
            "Discriminator Loss : [6.54832, 2.3805559]\n",
            "\n",
            "\n"
          ],
          "name": "stdout"
        },
        {
          "output_type": "stream",
          "text": [
            " 49% (1000 of 2030) |#########           | Elapsed Time: 0:24:59 ETA:   0:29:24"
          ],
          "name": "stderr"
        },
        {
          "output_type": "stream",
          "text": [
            "Step Number :  1000\n",
            "Generator Loss :  [1.265483, 0.08098463, 3.778749, 8.492236]\n",
            "Discriminator Loss : [8.271713, 4.8067727]\n",
            "\n",
            "\n"
          ],
          "name": "stdout"
        },
        {
          "output_type": "stream",
          "text": [
            " 51% (1050 of 2030) |##########          | Elapsed Time: 0:26:12 ETA:   0:27:43"
          ],
          "name": "stderr"
        },
        {
          "output_type": "stream",
          "text": [
            "Step Number :  1050\n",
            "Generator Loss :  [1.1827227, 0.06761567, 3.5831573, 8.338948]\n",
            "Discriminator Loss : [8.514775, 5.2634172]\n",
            "\n",
            "\n"
          ],
          "name": "stdout"
        },
        {
          "output_type": "stream",
          "text": [
            " 54% (1100 of 2030) |##########          | Elapsed Time: 0:27:26 ETA:   0:26:30"
          ],
          "name": "stderr"
        },
        {
          "output_type": "stream",
          "text": [
            "Step Number :  1100\n",
            "Generator Loss :  [1.164029, 0.06989145, 2.9338884, 8.057701]\n",
            "Discriminator Loss : [8.420679, 3.7720168]\n",
            "\n",
            "\n"
          ],
          "name": "stdout"
        },
        {
          "output_type": "stream",
          "text": [
            " 56% (1150 of 2030) |###########         | Elapsed Time: 0:28:39 ETA:   0:24:59"
          ],
          "name": "stderr"
        },
        {
          "output_type": "stream",
          "text": [
            "Step Number :  1150\n",
            "Generator Loss :  [1.2529503, 0.076914035, 3.3777032, 8.58247]\n",
            "Discriminator Loss : [6.9466815, 5.537757]\n",
            "\n",
            "\n"
          ],
          "name": "stdout"
        },
        {
          "output_type": "stream",
          "text": [
            " 59% (1200 of 2030) |###########         | Elapsed Time: 0:29:53 ETA:   0:23:45"
          ],
          "name": "stderr"
        },
        {
          "output_type": "stream",
          "text": [
            "Step Number :  1200\n",
            "Generator Loss :  [1.2792242, 0.087923, 3.2629905, 8.2982025]\n",
            "Discriminator Loss : [6.252149, 3.4863842]\n",
            "\n",
            "\n"
          ],
          "name": "stdout"
        },
        {
          "output_type": "stream",
          "text": [
            " 61% (1250 of 2030) |############        | Elapsed Time: 0:31:06 ETA:   0:22:23"
          ],
          "name": "stderr"
        },
        {
          "output_type": "stream",
          "text": [
            "Step Number :  1250\n",
            "Generator Loss :  [0.95538056, 0.06462298, 3.260003, 6.224856]\n",
            "Discriminator Loss : [7.1243205, 3.9927156]\n",
            "\n",
            "\n"
          ],
          "name": "stdout"
        },
        {
          "output_type": "stream",
          "text": [
            " 64% (1300 of 2030) |############        | Elapsed Time: 0:32:20 ETA:   0:24:24"
          ],
          "name": "stderr"
        },
        {
          "output_type": "stream",
          "text": [
            "Step Number :  1300\n",
            "Generator Loss :  [1.3280716, 0.10393973, 3.5369604, 7.97762]\n",
            "Discriminator Loss : [6.967649, 1.3612113]\n",
            "\n",
            "\n"
          ],
          "name": "stdout"
        },
        {
          "output_type": "stream",
          "text": [
            " 66% (1350 of 2030) |#############       | Elapsed Time: 0:33:33 ETA:   0:19:19"
          ],
          "name": "stderr"
        },
        {
          "output_type": "stream",
          "text": [
            "Step Number :  1350\n",
            "Generator Loss :  [1.1543516, 0.08358269, 3.025826, 7.2736063]\n",
            "Discriminator Loss : [5.8360634, 1.5065715]\n",
            "\n",
            "\n"
          ],
          "name": "stdout"
        },
        {
          "output_type": "stream",
          "text": [
            " 68% (1400 of 2030) |#############       | Elapsed Time: 0:34:47 ETA:   0:18:01"
          ],
          "name": "stderr"
        },
        {
          "output_type": "stream",
          "text": [
            "Step Number :  1400\n",
            "Generator Loss :  [1.4572257, 0.107542835, 3.7960126, 9.081234]\n",
            "Discriminator Loss : [6.2088013, 1.1693168]\n",
            "\n",
            "\n"
          ],
          "name": "stdout"
        },
        {
          "output_type": "stream",
          "text": [
            " 71% (1450 of 2030) |##############      | Elapsed Time: 0:36:01 ETA:   0:23:13"
          ],
          "name": "stderr"
        },
        {
          "output_type": "stream",
          "text": [
            "Step Number :  1450\n",
            "Generator Loss :  [1.1350846, 0.10071339, 2.9495518, 6.226691]\n",
            "Discriminator Loss : [4.344911, 1.285375]\n",
            "\n",
            "\n"
          ],
          "name": "stdout"
        },
        {
          "output_type": "stream",
          "text": [
            " 73% (1500 of 2030) |##############      | Elapsed Time: 0:37:14 ETA:   0:15:09"
          ],
          "name": "stderr"
        },
        {
          "output_type": "stream",
          "text": [
            "Step Number :  1500\n",
            "Generator Loss :  [0.9748877, 0.08799121, 3.1695688, 5.2542295]\n",
            "Discriminator Loss : [5.0627933, 3.4809644]\n",
            "\n",
            "\n"
          ],
          "name": "stdout"
        },
        {
          "output_type": "stream",
          "text": [
            " 76% (1550 of 2030) |###############     | Elapsed Time: 0:38:28 ETA:   0:13:46"
          ],
          "name": "stderr"
        },
        {
          "output_type": "stream",
          "text": [
            "Step Number :  1550\n",
            "Generator Loss :  [0.8719553, 0.08301636, 3.3939073, 4.466917]\n",
            "Discriminator Loss : [5.128031, 6.165055]\n",
            "\n",
            "\n"
          ],
          "name": "stdout"
        },
        {
          "output_type": "stream",
          "text": [
            " 78% (1600 of 2030) |###############     | Elapsed Time: 0:39:41 ETA:   0:12:12"
          ],
          "name": "stderr"
        },
        {
          "output_type": "stream",
          "text": [
            "Step Number :  1600\n",
            "Generator Loss :  [0.87477416, 0.074271, 3.4035895, 4.9320836]\n",
            "Discriminator Loss : [5.3649397, 2.7493567]\n",
            "\n",
            "\n"
          ],
          "name": "stdout"
        },
        {
          "output_type": "stream",
          "text": [
            " 81% (1650 of 2030) |################    | Elapsed Time: 0:40:55 ETA:   0:10:48"
          ],
          "name": "stderr"
        },
        {
          "output_type": "stream",
          "text": [
            "Step Number :  1650\n",
            "Generator Loss :  [0.93496484, 0.110429764, 2.9941957, 3.7383342]\n",
            "Discriminator Loss : [5.39456, 2.4655445]\n",
            "\n",
            "\n"
          ],
          "name": "stdout"
        },
        {
          "output_type": "stream",
          "text": [
            " 83% (1700 of 2030) |################    | Elapsed Time: 0:42:09 ETA:   0:09:32"
          ],
          "name": "stderr"
        },
        {
          "output_type": "stream",
          "text": [
            "Step Number :  1700\n",
            "Generator Loss :  [0.81362605, 0.080120385, 3.1644306, 4.0353084]\n",
            "Discriminator Loss : [5.8926716, 9.047743]\n",
            "\n",
            "\n"
          ],
          "name": "stdout"
        },
        {
          "output_type": "stream",
          "text": [
            " 86% (1750 of 2030) |#################   | Elapsed Time: 0:43:23 ETA:   0:08:03"
          ],
          "name": "stderr"
        },
        {
          "output_type": "stream",
          "text": [
            "Step Number :  1750\n",
            "Generator Loss :  [0.9540564, 0.08891351, 3.4764721, 4.9905944]\n",
            "Discriminator Loss : [6.0926304, 1.6432875]\n",
            "\n",
            "\n"
          ],
          "name": "stdout"
        },
        {
          "output_type": "stream",
          "text": [
            " 88% (1800 of 2030) |#################   | Elapsed Time: 0:44:38 ETA:   0:06:35"
          ],
          "name": "stderr"
        },
        {
          "output_type": "stream",
          "text": [
            "Step Number :  1800\n",
            "Generator Loss :  [0.75374305, 0.06782688, 2.8283882, 4.0612345]\n",
            "Discriminator Loss : [5.591458, 3.5093799]\n",
            "\n",
            "\n"
          ],
          "name": "stdout"
        },
        {
          "output_type": "stream",
          "text": [
            " 91% (1850 of 2030) |##################  | Elapsed Time: 0:45:51 ETA:   0:05:10"
          ],
          "name": "stderr"
        },
        {
          "output_type": "stream",
          "text": [
            "Step Number :  1850\n",
            "Generator Loss :  [1.1017991, 0.071398124, 2.8845854, 7.3615475]\n",
            "Discriminator Loss : [7.032015, 4.1129937]\n",
            "\n",
            "\n"
          ],
          "name": "stdout"
        },
        {
          "output_type": "stream",
          "text": [
            " 93% (1900 of 2030) |##################  | Elapsed Time: 0:47:05 ETA:   0:03:44"
          ],
          "name": "stderr"
        },
        {
          "output_type": "stream",
          "text": [
            "Step Number :  1900\n",
            "Generator Loss :  [1.1102164, 0.0879, 3.581121, 6.599731]\n",
            "Discriminator Loss : [5.1997643, 2.5165486]\n",
            "\n",
            "\n"
          ],
          "name": "stdout"
        },
        {
          "output_type": "stream",
          "text": [
            " 96% (1950 of 2030) |################### | Elapsed Time: 0:48:19 ETA:   0:02:18"
          ],
          "name": "stderr"
        },
        {
          "output_type": "stream",
          "text": [
            "Step Number :  1950\n",
            "Generator Loss :  [1.3416691, 0.12951805, 3.523925, 6.835071]\n",
            "Discriminator Loss : [5.5847006, 1.2568508]\n",
            "\n",
            "\n"
          ],
          "name": "stdout"
        },
        {
          "output_type": "stream",
          "text": [
            " 98% (2000 of 2030) |################### | Elapsed Time: 0:49:33 ETA:   0:01:00"
          ],
          "name": "stderr"
        },
        {
          "output_type": "stream",
          "text": [
            "Step Number :  2000\n",
            "Generator Loss :  [0.9239502, 0.096238084, 3.219479, 4.3310137]\n",
            "Discriminator Loss : [5.251475, 1.8607513]\n",
            "\n",
            "\n"
          ],
          "name": "stdout"
        },
        {
          "output_type": "stream",
          "text": [
            "100% (2030 of 2030) |####################| Elapsed Time: 0:50:17 Time:  0:50:17\n",
            "N/A% (0 of 2030) |                       | Elapsed Time: 0:00:00 ETA:  --:--:--"
          ],
          "name": "stderr"
        },
        {
          "output_type": "stream",
          "text": [
            "**********************EPOCH 2 *********************\n",
            "\n",
            "\n"
          ],
          "name": "stdout"
        },
        {
          "output_type": "stream",
          "text": [
            "  2% (50 of 2030) |                      | Elapsed Time: 0:01:13 ETA:   0:56:37"
          ],
          "name": "stderr"
        },
        {
          "output_type": "stream",
          "text": [
            "Step Number :  50\n",
            "Generator Loss :  [0.8447112, 0.0795628, 3.5331995, 4.3629756]\n",
            "Discriminator Loss : [5.5890946, 0.87100077]\n",
            "\n",
            "\n"
          ],
          "name": "stdout"
        },
        {
          "output_type": "stream",
          "text": [
            "  4% (100 of 2030) |#                    | Elapsed Time: 0:02:27 ETA:   1:21:25"
          ],
          "name": "stderr"
        },
        {
          "output_type": "stream",
          "text": [
            "Step Number :  100\n",
            "Generator Loss :  [0.99367607, 0.08856676, 3.417135, 5.4059086]\n",
            "Discriminator Loss : [4.592617, 0.51999825]\n",
            "\n",
            "\n"
          ],
          "name": "stdout"
        },
        {
          "output_type": "stream",
          "text": [
            "  7% (150 of 2030) |#                    | Elapsed Time: 0:03:41 ETA:   0:53:57"
          ],
          "name": "stderr"
        },
        {
          "output_type": "stream",
          "text": [
            "Step Number :  150\n",
            "Generator Loss :  [0.97298133, 0.08400217, 3.3257759, 5.4299316]\n",
            "Discriminator Loss : [4.5304003, 1.2411077]\n",
            "\n",
            "\n"
          ],
          "name": "stdout"
        },
        {
          "output_type": "stream",
          "text": [
            "  9% (200 of 2030) |##                   | Elapsed Time: 0:04:55 ETA:   0:52:44"
          ],
          "name": "stderr"
        },
        {
          "output_type": "stream",
          "text": [
            "Step Number :  200\n",
            "Generator Loss :  [0.86739373, 0.085606, 3.8677151, 4.2776055]\n",
            "Discriminator Loss : [3.6714933, 1.073239]\n",
            "\n",
            "\n"
          ],
          "name": "stdout"
        },
        {
          "output_type": "stream",
          "text": [
            " 12% (250 of 2030) |##                   | Elapsed Time: 0:06:09 ETA:   0:59:31"
          ],
          "name": "stderr"
        },
        {
          "output_type": "stream",
          "text": [
            "Step Number :  250\n",
            "Generator Loss :  [0.794962, 0.07530543, 3.285722, 4.0857763]\n",
            "Discriminator Loss : [3.7884758, 1.2987512]\n",
            "\n",
            "\n"
          ],
          "name": "stdout"
        },
        {
          "output_type": "stream",
          "text": [
            " 14% (300 of 2030) |###                  | Elapsed Time: 0:07:24 ETA:   0:58:06"
          ],
          "name": "stderr"
        },
        {
          "output_type": "stream",
          "text": [
            "Step Number :  300\n",
            "Generator Loss :  [0.7943322, 0.075663745, 3.8163962, 4.045643]\n",
            "Discriminator Loss : [4.009641, 1.5531371]\n",
            "\n",
            "\n"
          ],
          "name": "stdout"
        },
        {
          "output_type": "stream",
          "text": [
            " 17% (350 of 2030) |###                  | Elapsed Time: 0:08:39 ETA:   0:57:14"
          ],
          "name": "stderr"
        },
        {
          "output_type": "stream",
          "text": [
            "Step Number :  350\n",
            "Generator Loss :  [1.1585133, 0.095060594, 3.3195403, 6.7325172]\n",
            "Discriminator Loss : [4.6077223, 2.0987122]\n",
            "\n",
            "\n"
          ],
          "name": "stdout"
        },
        {
          "output_type": "stream",
          "text": [
            " 19% (400 of 2030) |####                 | Elapsed Time: 0:09:53 ETA:   0:54:46"
          ],
          "name": "stderr"
        },
        {
          "output_type": "stream",
          "text": [
            "Step Number :  400\n",
            "Generator Loss :  [1.1955924, 0.1101897, 3.2733235, 6.3482385]\n",
            "Discriminator Loss : [4.1924195, 1.0331846]\n",
            "\n",
            "\n"
          ],
          "name": "stdout"
        },
        {
          "output_type": "stream",
          "text": [
            " 22% (450 of 2030) |####                 | Elapsed Time: 0:11:08 ETA:   0:53:29"
          ],
          "name": "stderr"
        },
        {
          "output_type": "stream",
          "text": [
            "Step Number :  450\n",
            "Generator Loss :  [0.97585976, 0.11490529, 3.166963, 3.9183247]\n",
            "Discriminator Loss : [4.547744, 0.90062237]\n",
            "\n",
            "\n"
          ],
          "name": "stdout"
        },
        {
          "output_type": "stream",
          "text": [
            " 24% (500 of 2030) |#####                | Elapsed Time: 0:12:23 ETA:   0:52:00"
          ],
          "name": "stderr"
        },
        {
          "output_type": "stream",
          "text": [
            "Step Number :  500\n",
            "Generator Loss :  [1.0090123, 0.098169744, 3.3499856, 5.0811367]\n",
            "Discriminator Loss : [4.425026, 0.3122435]\n",
            "\n",
            "\n"
          ],
          "name": "stdout"
        },
        {
          "output_type": "stream",
          "text": [
            " 27% (550 of 2030) |#####                | Elapsed Time: 0:13:38 ETA:   0:50:07"
          ],
          "name": "stderr"
        },
        {
          "output_type": "stream",
          "text": [
            "Step Number :  550\n",
            "Generator Loss :  [0.74829173, 0.06808212, 3.299864, 3.9798157]\n",
            "Discriminator Loss : [3.5778036, 0.6337286]\n",
            "\n",
            "\n"
          ],
          "name": "stdout"
        },
        {
          "output_type": "stream",
          "text": [
            " 29% (600 of 2030) |######               | Elapsed Time: 0:14:54 ETA:   0:48:49"
          ],
          "name": "stderr"
        },
        {
          "output_type": "stream",
          "text": [
            "Step Number :  600\n",
            "Generator Loss :  [0.77309453, 0.07840295, 4.015094, 3.690345]\n",
            "Discriminator Loss : [3.4272673, 0.6986604]\n",
            "\n",
            "\n"
          ],
          "name": "stdout"
        },
        {
          "output_type": "stream",
          "text": [
            " 32% (650 of 2030) |######               | Elapsed Time: 0:16:08 ETA:   0:46:01"
          ],
          "name": "stderr"
        },
        {
          "output_type": "stream",
          "text": [
            "Step Number :  650\n",
            "Generator Loss :  [0.6360532, 0.07834745, 3.2641177, 2.3452358]\n",
            "Discriminator Loss : [3.236392, 0.6096789]\n",
            "\n",
            "\n"
          ],
          "name": "stdout"
        },
        {
          "output_type": "stream",
          "text": [
            " 34% (700 of 2030) |#######              | Elapsed Time: 0:17:23 ETA:   0:45:13"
          ],
          "name": "stderr"
        },
        {
          "output_type": "stream",
          "text": [
            "Step Number :  700\n",
            "Generator Loss :  [1.0249082, 0.10176243, 3.1639009, 5.0660434]\n",
            "Discriminator Loss : [3.0958488, 0.72887546]\n",
            "\n",
            "\n"
          ],
          "name": "stdout"
        },
        {
          "output_type": "stream",
          "text": [
            " 36% (750 of 2030) |#######              | Elapsed Time: 0:18:39 ETA:   0:43:13"
          ],
          "name": "stderr"
        },
        {
          "output_type": "stream",
          "text": [
            "Step Number :  750\n",
            "Generator Loss :  [0.60803425, 0.09011226, 3.141875, 1.4804732]\n",
            "Discriminator Loss : [2.4347322, 1.789967]\n",
            "\n",
            "\n"
          ],
          "name": "stdout"
        },
        {
          "output_type": "stream",
          "text": [
            " 39% (800 of 2030) |########             | Elapsed Time: 0:19:53 ETA:   0:41:12"
          ],
          "name": "stderr"
        },
        {
          "output_type": "stream",
          "text": [
            "Step Number :  800\n",
            "Generator Loss :  [0.82688975, 0.09364729, 3.1497223, 3.4920418]\n",
            "Discriminator Loss : [4.5724006, 0.43304834]\n",
            "\n",
            "\n"
          ],
          "name": "stdout"
        },
        {
          "output_type": "stream",
          "text": [
            " 41% (850 of 2030) |########             | Elapsed Time: 0:21:07 ETA:   0:39:34"
          ],
          "name": "stderr"
        },
        {
          "output_type": "stream",
          "text": [
            "Step Number :  850\n",
            "Generator Loss :  [0.8035942, 0.07845565, 3.191339, 4.017419]\n",
            "Discriminator Loss : [2.8504407, 0.53934956]\n",
            "\n",
            "\n"
          ],
          "name": "stdout"
        },
        {
          "output_type": "stream",
          "text": [
            " 44% (900 of 2030) |#########            | Elapsed Time: 0:22:22 ETA:   0:51:29"
          ],
          "name": "stderr"
        },
        {
          "output_type": "stream",
          "text": [
            "Step Number :  900\n",
            "Generator Loss :  [0.7942086, 0.08957924, 3.0536354, 3.371515]\n",
            "Discriminator Loss : [3.859005, 4.231803]\n",
            "\n",
            "\n"
          ],
          "name": "stdout"
        },
        {
          "output_type": "stream",
          "text": [
            " 46% (950 of 2030) |#########            | Elapsed Time: 0:23:36 ETA:   0:31:17"
          ],
          "name": "stderr"
        },
        {
          "output_type": "stream",
          "text": [
            "Step Number :  950\n",
            "Generator Loss :  [0.72170556, 0.06605786, 3.8305435, 3.799246]\n",
            "Discriminator Loss : [3.9798758, 3.5426574]\n",
            "\n",
            "\n"
          ],
          "name": "stdout"
        },
        {
          "output_type": "stream",
          "text": [
            " 49% (1000 of 2030) |#########           | Elapsed Time: 0:24:49 ETA:   0:29:33"
          ],
          "name": "stderr"
        },
        {
          "output_type": "stream",
          "text": [
            "Step Number :  1000\n",
            "Generator Loss :  [0.68787205, 0.062731005, 3.3979118, 3.6402326]\n",
            "Discriminator Loss : [3.9725647, 2.833303]\n",
            "\n",
            "\n"
          ],
          "name": "stdout"
        },
        {
          "output_type": "stream",
          "text": [
            " 51% (1050 of 2030) |##########          | Elapsed Time: 0:26:03 ETA:   0:28:02"
          ],
          "name": "stderr"
        },
        {
          "output_type": "stream",
          "text": [
            "Step Number :  1050\n",
            "Generator Loss :  [0.93744296, 0.06887951, 3.4364839, 5.8273597]\n",
            "Discriminator Loss : [4.9152713, 1.3204931]\n",
            "\n",
            "\n"
          ],
          "name": "stdout"
        },
        {
          "output_type": "stream",
          "text": [
            " 54% (1100 of 2030) |##########          | Elapsed Time: 0:27:16 ETA:   0:26:32"
          ],
          "name": "stderr"
        },
        {
          "output_type": "stream",
          "text": [
            "Step Number :  1100\n",
            "Generator Loss :  [0.7605144, 0.06325445, 2.7938635, 4.358605]\n",
            "Discriminator Loss : [3.7686806, 0.5988693]\n",
            "\n",
            "\n"
          ],
          "name": "stdout"
        },
        {
          "output_type": "stream",
          "text": [
            " 56% (1150 of 2030) |###########         | Elapsed Time: 0:28:30 ETA:   0:25:23"
          ],
          "name": "stderr"
        },
        {
          "output_type": "stream",
          "text": [
            "Step Number :  1150\n",
            "Generator Loss :  [0.72551006, 0.062272277, 3.1623917, 4.046615]\n",
            "Discriminator Loss : [3.3821635, 1.4610808]\n",
            "\n",
            "\n"
          ],
          "name": "stdout"
        },
        {
          "output_type": "stream",
          "text": [
            " 59% (1200 of 2030) |###########         | Elapsed Time: 0:29:44 ETA:   0:23:47"
          ],
          "name": "stderr"
        },
        {
          "output_type": "stream",
          "text": [
            "Step Number :  1200\n",
            "Generator Loss :  [0.7621473, 0.064017445, 3.5032034, 4.315505]\n",
            "Discriminator Loss : [3.2331061, 0.96495014]\n",
            "\n",
            "\n"
          ],
          "name": "stdout"
        },
        {
          "output_type": "stream",
          "text": [
            " 61% (1250 of 2030) |############        | Elapsed Time: 0:30:57 ETA:   0:22:10"
          ],
          "name": "stderr"
        },
        {
          "output_type": "stream",
          "text": [
            "Step Number :  1250\n",
            "Generator Loss :  [1.0147374, 0.100818895, 2.9937572, 5.0166154]\n",
            "Discriminator Loss : [4.0134425, 0.80593777]\n",
            "\n",
            "\n"
          ],
          "name": "stdout"
        },
        {
          "output_type": "stream",
          "text": [
            " 64% (1300 of 2030) |############        | Elapsed Time: 0:32:11 ETA:   0:21:00"
          ],
          "name": "stderr"
        },
        {
          "output_type": "stream",
          "text": [
            "Step Number :  1300\n",
            "Generator Loss :  [0.7816043, 0.08220632, 3.0794253, 3.6133442]\n",
            "Discriminator Loss : [2.38587, 0.557029]\n",
            "\n",
            "\n"
          ],
          "name": "stdout"
        },
        {
          "output_type": "stream",
          "text": [
            " 66% (1350 of 2030) |#############       | Elapsed Time: 0:33:24 ETA:   0:19:29"
          ],
          "name": "stderr"
        },
        {
          "output_type": "stream",
          "text": [
            "Step Number :  1350\n",
            "Generator Loss :  [0.5523407, 0.061812032, 3.1188545, 2.3392398]\n",
            "Discriminator Loss : [3.1211169, 0.7582783]\n",
            "\n",
            "\n"
          ],
          "name": "stdout"
        },
        {
          "output_type": "stream",
          "text": [
            " 68% (1400 of 2030) |#############       | Elapsed Time: 0:34:38 ETA:   0:17:59"
          ],
          "name": "stderr"
        },
        {
          "output_type": "stream",
          "text": [
            "Step Number :  1400\n",
            "Generator Loss :  [0.46933925, 0.05835089, 3.4239428, 1.6731297]\n",
            "Discriminator Loss : [1.8047037, 0.9534971]\n",
            "\n",
            "\n"
          ],
          "name": "stdout"
        },
        {
          "output_type": "stream",
          "text": [
            " 71% (1450 of 2030) |##############      | Elapsed Time: 0:35:51 ETA:   0:16:30"
          ],
          "name": "stderr"
        },
        {
          "output_type": "stream",
          "text": [
            "Step Number :  1450\n",
            "Generator Loss :  [0.43373516, 0.04247522, 2.8286698, 2.1287305]\n",
            "Discriminator Loss : [1.534639, 0.77540886]\n",
            "\n",
            "\n"
          ],
          "name": "stdout"
        },
        {
          "output_type": "stream",
          "text": [
            " 73% (1500 of 2030) |##############      | Elapsed Time: 0:37:04 ETA:   0:15:02"
          ],
          "name": "stderr"
        },
        {
          "output_type": "stream",
          "text": [
            "Step Number :  1500\n",
            "Generator Loss :  [0.38187495, 0.045241795, 3.5192466, 1.4510822]\n",
            "Discriminator Loss : [1.3036892, 0.8628413]\n",
            "\n",
            "\n"
          ],
          "name": "stdout"
        },
        {
          "output_type": "stream",
          "text": [
            " 76% (1548 of 2030) |###############     | Elapsed Time: 0:38:14 ETA:   0:11:40"
          ],
          "name": "stderr"
        }
      ]
    },
    {
      "cell_type": "code",
      "metadata": {
        "id": "vcneD1RfzVYT"
      },
      "source": [
        ""
      ],
      "execution_count": null,
      "outputs": []
    }
  ]
}