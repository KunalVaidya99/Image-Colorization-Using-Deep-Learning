{
  "nbformat": 4,
  "nbformat_minor": 0,
  "metadata": {
    "colab": {
      "name": "ChromaGAN.ipynb",
      "provenance": [],
      "collapsed_sections": [],
      "include_colab_link": true
    },
    "kernelspec": {
      "name": "python3",
      "display_name": "Python 3"
    },
    "accelerator": "GPU"
  },
  "cells": [
    {
      "cell_type": "markdown",
      "metadata": {
        "id": "view-in-github",
        "colab_type": "text"
      },
      "source": [
        "<a href=\"https://colab.research.google.com/github/KunalVaidya99/Image-Colorization-Using-Deep-Learning/blob/main/ChromaGAN.ipynb\" target=\"_parent\"><img src=\"https://colab.research.google.com/assets/colab-badge.svg\" alt=\"Open In Colab\"/></a>"
      ]
    },
    {
      "cell_type": "code",
      "metadata": {
        "id": "zA8bcFbU0-VF",
        "outputId": "9792a8ec-5560-4e68-cf2a-f6278ad9cb43",
        "colab": {
          "base_uri": "https://localhost:8080/"
        }
      },
      "source": [
        "%tensorflow_version 1.x"
      ],
      "execution_count": 1,
      "outputs": [
        {
          "output_type": "stream",
          "text": [
            "TensorFlow 1.x selected.\n"
          ],
          "name": "stdout"
        }
      ]
    },
    {
      "cell_type": "code",
      "metadata": {
        "id": "CswEHXhU1YDR",
        "outputId": "446e1742-b395-4018-810b-45fa3560fb00",
        "colab": {
          "base_uri": "https://localhost:8080/"
        }
      },
      "source": [
        "from google.colab import drive\n",
        "drive.mount(\"/content/gdrive/\")"
      ],
      "execution_count": 2,
      "outputs": [
        {
          "output_type": "stream",
          "text": [
            "Mounted at /content/gdrive/\n"
          ],
          "name": "stdout"
        }
      ]
    },
    {
      "cell_type": "code",
      "metadata": {
        "id": "zaoB1Kbu1iXX"
      },
      "source": [
        "import tensorflow as tf\n",
        "import keras\n",
        "import keras.backend as K\n",
        "from keras.layers import (Conv2D,Conv2DTranspose,UpSampling2D,MaxPooling2D,Input\n",
        "                          ,Activation,Concatenate,BatchNormalization,Flatten,Concatenate\n",
        "                          ,Dense,RepeatVector,Reshape)\n",
        "from keras.optimizers import Adam\n",
        "from keras.layers.advanced_activations import LeakyReLU\n",
        "from keras.utils import plot_model\n",
        "from keras.models import Model,Sequential\n",
        "import numpy as np\n",
        "from keras.preprocessing.image import load_img\n",
        "from PIL import Image\n",
        "import os\n",
        "import matplotlib.pyplot as plt\n",
        "import pickle\n",
        "import random\n",
        "from skimage.color import gray2rgb\n",
        "import matplotlib.pyplot as plt\n",
        "from keras.callbacks import ModelCheckpoint\n",
        "from keras.applications import VGG16\n",
        "from keras.preprocessing.image import load_img,img_to_array"
      ],
      "execution_count": 18,
      "outputs": []
    },
    {
      "cell_type": "markdown",
      "metadata": {
        "id": "JWGloSyGgyav"
      },
      "source": [
        "Extracting Features for all images using VGG16"
      ]
    },
    {
      "cell_type": "code",
      "metadata": {
        "id": "eKF4y_Cc2pe0",
        "outputId": "0e762439-a7b4-4e0a-cd40-06cd5e52b8d6",
        "colab": {
          "base_uri": "https://localhost:8080/"
        }
      },
      "source": [
        "def extract_features(directory):\n",
        "\n",
        "  model = VGG16(include_top=True,weights=\"imagenet\",classes=1000)\n",
        "  features = dict()\n",
        "  count = 0\n",
        "  for filename in os.listdir(directory):\n",
        "   \n",
        "    image = load_img(directory+filename,target_size=(224,224))\n",
        "    img_array = img_to_array(image)\n",
        "    img_array = img_array.reshape((1,224,224,3))\n",
        "    feature = model.predict(img_array)\n",
        "    features[filename] = feature\n",
        "    count = count + 1\n",
        "\n",
        "    if (count%1000==0):\n",
        "      print(\"Completed Feature Extraction Of \" + f\"{count}\") \n",
        "\n",
        "  return features\n",
        "\n",
        "directory = \"/content/gdrive/My Drive/val_256/\"\n",
        "features = extract_features(directory)       "
      ],
      "execution_count": null,
      "outputs": [
        {
          "output_type": "stream",
          "text": [
            "WARNING:tensorflow:From /tensorflow-1.15.2/python3.6/keras/backend/tensorflow_backend.py:422: The name tf.global_variables is deprecated. Please use tf.compat.v1.global_variables instead.\n",
            "\n",
            "Completed Feature Extraction Of 1000\n",
            "Completed Feature Extraction Of 2000\n",
            "Completed Feature Extraction Of 3000\n",
            "Completed Feature Extraction Of 4000\n",
            "Completed Feature Extraction Of 5000\n",
            "Completed Feature Extraction Of 6000\n",
            "Completed Feature Extraction Of 7000\n",
            "Completed Feature Extraction Of 8000\n",
            "Completed Feature Extraction Of 9000\n",
            "Completed Feature Extraction Of 10000\n",
            "Completed Feature Extraction Of 11000\n",
            "Completed Feature Extraction Of 12000\n",
            "Completed Feature Extraction Of 13000\n",
            "Completed Feature Extraction Of 14000\n",
            "Completed Feature Extraction Of 15000\n",
            "Completed Feature Extraction Of 16000\n",
            "Completed Feature Extraction Of 17000\n",
            "Completed Feature Extraction Of 18000\n",
            "Completed Feature Extraction Of 19000\n",
            "Completed Feature Extraction Of 20000\n",
            "Completed Feature Extraction Of 21000\n",
            "Completed Feature Extraction Of 22000\n",
            "Completed Feature Extraction Of 23000\n",
            "Completed Feature Extraction Of 24000\n",
            "Completed Feature Extraction Of 25000\n",
            "Completed Feature Extraction Of 26000\n",
            "Completed Feature Extraction Of 27000\n",
            "Completed Feature Extraction Of 28000\n",
            "Completed Feature Extraction Of 29000\n",
            "Completed Feature Extraction Of 30000\n",
            "Completed Feature Extraction Of 31000\n",
            "Completed Feature Extraction Of 32000\n",
            "Completed Feature Extraction Of 33000\n",
            "Completed Feature Extraction Of 34000\n",
            "Completed Feature Extraction Of 35000\n",
            "Completed Feature Extraction Of 36000\n",
            "Completed Feature Extraction Of 37000\n",
            "Completed Feature Extraction Of 38000\n",
            "Completed Feature Extraction Of 39000\n",
            "Completed Feature Extraction Of 40000\n",
            "Completed Feature Extraction Of 41000\n",
            "Completed Feature Extraction Of 42000\n",
            "Completed Feature Extraction Of 43000\n",
            "Completed Feature Extraction Of 44000\n",
            "Completed Feature Extraction Of 45000\n",
            "Completed Feature Extraction Of 46000\n",
            "Completed Feature Extraction Of 47000\n",
            "Completed Feature Extraction Of 48000\n",
            "Completed Feature Extraction Of 49000\n",
            "Completed Feature Extraction Of 50000\n",
            "Completed Feature Extraction Of 51000\n",
            "Completed Feature Extraction Of 52000\n",
            "Completed Feature Extraction Of 53000\n",
            "Completed Feature Extraction Of 54000\n",
            "Completed Feature Extraction Of 55000\n",
            "Completed Feature Extraction Of 56000\n",
            "Completed Feature Extraction Of 57000\n",
            "Completed Feature Extraction Of 58000\n",
            "Completed Feature Extraction Of 59000\n",
            "Completed Feature Extraction Of 60000\n",
            "Completed Feature Extraction Of 61000\n",
            "Completed Feature Extraction Of 62000\n",
            "Completed Feature Extraction Of 63000\n",
            "Completed Feature Extraction Of 64000\n"
          ],
          "name": "stdout"
        }
      ]
    },
    {
      "cell_type": "code",
      "metadata": {
        "id": "-6GuKhL-5-aT"
      },
      "source": [
        "import pickle\n",
        "f = open(\"/content/gdrive/My Drive/ImageColorization /chromaVGG16.pkl\",\"wb\")\n",
        "pickle.dump(features,f)\n",
        "f.close()"
      ],
      "execution_count": null,
      "outputs": []
    },
    {
      "cell_type": "code",
      "metadata": {
        "id": "CoHf2gb8yFA_"
      },
      "source": [
        "f_new = open(\"/content/gdrive/My Drive/ImageColorization /chromaVGG16.pkl\",\"rb\")\n",
        "features_new = pickle.load(f_new)\n",
        "f_new.close()"
      ],
      "execution_count": 7,
      "outputs": []
    },
    {
      "cell_type": "code",
      "metadata": {
        "id": "F89VcJ4ME89J",
        "outputId": "13cba109-d9d1-48b4-acac-50a58b2ed588",
        "colab": {
          "base_uri": "https://localhost:8080/"
        }
      },
      "source": [
        "features['Places365_test_00000002.jpg'].shape"
      ],
      "execution_count": null,
      "outputs": [
        {
          "output_type": "execute_result",
          "data": {
            "text/plain": [
              "(1, 1000)"
            ]
          },
          "metadata": {
            "tags": []
          },
          "execution_count": 9
        }
      ]
    },
    {
      "cell_type": "code",
      "metadata": {
        "id": "NYtomIhCJfZf"
      },
      "source": [
        "class DataGenerator():\n",
        "\n",
        "  def __init__(self,features,directory,dim=(224,224),batch_size=32,n_channels=3):\n",
        "    \n",
        "    self.directory = directory\n",
        "    self.dim = dim\n",
        "    self.batch_size=batch_size\n",
        "    self.n_channels = n_channels\n",
        "    self.features = features\n",
        "    self.epoch_end()\n",
        "\n",
        "  def epoch_end(self,filenames):\n",
        "    np.random.shuffle(filenames)\n",
        "\n",
        "  def generate_batch(self,step_number,filenames):\n",
        "    \n",
        "\n",
        "    batch_filenames = filenames[step_number*self.batch_size:(step_number+1)*self.batch_size]\n",
        "\n",
        "    gray_image = np.empty((self.batch_size,*self.dim,self.n_channels))\n",
        "    color_image = np.empty((self.batch_size,*self.dim,self.n_channels))\n",
        "    VGG16_target = np.empty((self.batch_size,1000))\n",
        "    count = 0\n",
        "\n",
        "\n",
        "    for filename in batch_filenames:\n",
        "      image = Image.open(self.directory +\"/\" + filename,target_size=(224,224))\n",
        "      image = image.resize((224,224))\n",
        "\n",
        "\n",
        "      if (np.array(image).shape==(224,224,3)):\n",
        "        \n",
        "        gray = (np.array(image.convert(\"L\")))\n",
        "        gray_image[count] = gray2rgb(gray)/255\n",
        "        color_image[count] = np.array(image)/255\n",
        "        VGG16_target[count] = self.features[filename]\n",
        "\n",
        "    return gray_image,color_image,VGG16_target    "
      ],
      "execution_count": 21,
      "outputs": []
    },
    {
      "cell_type": "code",
      "metadata": {
        "id": "ACE0LabGvNW5"
      },
      "source": [
        "def patch_discriminator(img_shape):\n",
        "\n",
        "  input_img = Input(shape=img_shape)\n",
        "\n",
        "  X = Conv2D(filters=64,kernel_size=(4,4),strides=(2,2),padding='same')(input_img)\n",
        "  X = BatchNormalization(axis=-1)(X)\n",
        "  X = LeakyReLU(alpha=0.2)(X)\n",
        "\n",
        "  X = Conv2D(filters=128,kernel_size=(4,4),strides=(2,2),padding='same')(X)\n",
        "  X = BatchNormalization(axis=-1)(X)\n",
        "  X = LeakyReLU(alpha=0.2)(X)\n",
        "\n",
        "  X = Conv2D(filters=256,kernel_size=(4,4),strides=(2,2),padding='same')(X)\n",
        "  X = BatchNormalization(axis=-1)(X)\n",
        "  X = LeakyReLU(alpha=0.2)(X)\n",
        "\n",
        "  X = Conv2D(filters=512,kernel_size=(4,4),strides=(1,1),padding='same')(X)\n",
        "  X = BatchNormalization(axis=-1)(X)\n",
        "  X = LeakyReLU(alpha=0.2)(X)\n",
        "\n",
        "  X = Conv2D(filters=1,kernel_size=(4,4),strides=(1,1),padding='same')(X)\n",
        " \n",
        "  model = Model(inputs=input_img,outputs=X)\n",
        "\n",
        "  return model\n"
      ],
      "execution_count": 23,
      "outputs": []
    },
    {
      "cell_type": "code",
      "metadata": {
        "id": "FgukDnq_8Uv0",
        "outputId": "bda140b4-1d29-4174-a8e4-311650f833e9",
        "colab": {
          "base_uri": "https://localhost:8080/"
        }
      },
      "source": [
        " VGG16model = VGG16(include_top=False,weights=\"imagenet\",classes=1000)\n",
        " #for layer in VGG16model.layers:\n",
        "  # layer.trainable = False"
      ],
      "execution_count": 11,
      "outputs": [
        {
          "output_type": "stream",
          "text": [
            "WARNING:tensorflow:From /tensorflow-1.15.2/python3.6/tensorflow_core/python/ops/resource_variable_ops.py:1630: calling BaseResourceVariable.__init__ (from tensorflow.python.ops.resource_variable_ops) with constraint is deprecated and will be removed in a future version.\n",
            "Instructions for updating:\n",
            "If using Keras pass *_constraint arguments to layers.\n",
            "WARNING:tensorflow:From /tensorflow-1.15.2/python3.6/keras/backend/tensorflow_backend.py:4070: The name tf.nn.max_pool is deprecated. Please use tf.nn.max_pool2d instead.\n",
            "\n",
            "Downloading data from https://github.com/fchollet/deep-learning-models/releases/download/v0.1/vgg16_weights_tf_dim_ordering_tf_kernels_notop.h5\n",
            "58892288/58889256 [==============================] - 1s 0us/step\n"
          ],
          "name": "stdout"
        }
      ]
    },
    {
      "cell_type": "code",
      "metadata": {
        "id": "MVp9NhQx8IZP"
      },
      "source": [
        "def generator(img_shape):\n",
        "\n",
        "  input_img = Input(shape=img_shape)\n",
        "  X = input_img\n",
        "\n",
        "  for layer in VGG16model.layers[1:-6]:\n",
        "    X = layer(X)\n",
        "  \n",
        "  VGG16_output = X \n",
        "  #print(VGG16_output.shape)\n",
        "  X = Conv2D(filters=512,kernel_size=(3,3),strides=(2,2),padding=\"same\")(X)\n",
        "  X = BatchNormalization(axis=-1)(X)\n",
        "  X = Activation('relu')(X)\n",
        "\n",
        "  X = Conv2D(filters=512,kernel_size=(3,3),strides=(1,1),padding=\"same\")(X)\n",
        "  X = BatchNormalization(axis=-1)(X)\n",
        "  X = Activation('relu')(X)\n",
        "\n",
        "  X = Conv2D(filters=512,kernel_size=(3,3),strides=(2,2),padding=\"same\")(X)\n",
        "  X = BatchNormalization(axis=-1)(X)\n",
        "  X = Activation('relu')(X)\n",
        "\n",
        "  X = Conv2D(filters=512,kernel_size=(3,3),strides=(1,1),padding=\"same\")(X)\n",
        "  X = BatchNormalization(axis=-1)(X)\n",
        "  X = Activation('relu')(X)\n",
        "\n",
        "  color_distribution = Flatten()(X)\n",
        "  color_distribution = Dense(units=4096)(color_distribution)\n",
        "  color_distribution = Dense(units=4096)(color_distribution)\n",
        "  color_distribution = Dense(units=1000,activation='softmax',name='colordistribution')(color_distribution)\n",
        "\n",
        "  fusion = Flatten()(X)\n",
        "  fusion = Dense(units=1024)(fusion)\n",
        "  fusion = Dense(units=512)(fusion)\n",
        "  fusion = Dense(units=256)(fusion)\n",
        "  fusion = RepeatVector(28*28)(fusion)\n",
        "  fusion = Reshape((28,28,256))(fusion)\n",
        "\n",
        "  encoder_output = Conv2D(filters=512,kernel_size=(3,3),strides=(1,1),padding=\"same\")(VGG16_output)\n",
        "  encoder_output = BatchNormalization(axis=-1)(encoder_output)\n",
        "  encoder_output = Activation('relu')(encoder_output)\n",
        "  encoder_output = Conv2D(filters=256,kernel_size=(3,3),strides=(1,1),padding=\"same\")(VGG16_output)\n",
        "  encoder_output = BatchNormalization(axis=-1)(encoder_output)\n",
        "  encoder_output = Activation('relu')(encoder_output)\n",
        "\n",
        "  encoder_output = Concatenate(axis=-1)([encoder_output,fusion])\n",
        "\n",
        "  decoder = Conv2D(filters=256,kernel_size=(1,1),strides=(1,1),activation='relu',padding='same')(encoder_output)\n",
        "  decoder = Conv2D(filters=128,kernel_size=(3,3),strides=(1,1),activation='relu',padding='same')(decoder)\n",
        "  decoder = UpSampling2D((2,2))(decoder)\n",
        "\n",
        "  decoder = Conv2D(filters=64,kernel_size=(3,3),strides=(1,1),padding='same',activation='relu')(decoder)\n",
        "  decoder = Conv2D(filters=64,kernel_size=(3,3),strides=(1,1),padding='same',activation='relu')(decoder)\n",
        "  decoder = UpSampling2D((2,2))(decoder)\n",
        "\n",
        "  decoder = Conv2D(filters=32,kernel_size=(3,3),strides=(1,1),padding='same',activation='relu')(decoder)\n",
        "  decoder = Conv2D(filters=3,kernel_size=(3,3),strides=(1,1),padding='same',activation='sigmoid')(decoder)\n",
        "  decoder = UpSampling2D((2,2))(decoder)\n",
        "\n",
        "\n",
        "  model = Model(inputs=input_img,outputs=[decoder,color_distribution])\n",
        "\n",
        "  return model"
      ],
      "execution_count": 24,
      "outputs": []
    },
    {
      "cell_type": "code",
      "metadata": {
        "id": "_YK3gdNdGsRz"
      },
      "source": [
        "def chromaGAN(img_shape,discriminator,generator):\n",
        "  X = Input(img_shape)\n",
        "  image,color_distribution = generator(X)\n",
        "  output = discriminator(image)\n",
        "  model = Model(inputs=X,outputs=[image,color_distribution,output])\n",
        "  return model"
      ],
      "execution_count": 25,
      "outputs": []
    },
    {
      "cell_type": "code",
      "metadata": {
        "id": "UhLxJUnFNhv-"
      },
      "source": [
        "chromaGAN = chromaGAN((224,224,3),patch_discriminator,generator)"
      ],
      "execution_count": null,
      "outputs": []
    },
    {
      "cell_type": "code",
      "metadata": {
        "id": "16z-7oN3Mk20"
      },
      "source": [
        "opt = Adam(learning_rate=0.00002,beta_1=0.5,beta_2=0.999)\n",
        "patch_discriminator = patch_discriminator((224,224,3))\n",
        "patch_discriminator.compile(optimizer=opt,loss='binary_crossentropy',loss_weights=[0.1])\n",
        "generator = generator((224,224,3))\n",
        "patch_discriminator.trainable = False\n",
        "chromaGAN = chromaGAN((224,224,3),patch_discriminator,generator)\n",
        "chromaGAN.compile(optimizer=opt,loss=[\"mean_squared_error\",keras.losses.kullback_leibler_divergence,'binary_crossentropy'],loss_weights=[2,0.003,0.1])"
      ],
      "execution_count": 26,
      "outputs": []
    },
    {
      "cell_type": "code",
      "metadata": {
        "id": "OMleCSntUjuE"
      },
      "source": [
        "def summarize_performance(step,generator,gray_images,color_images,name = \"Colorizer\"):\n",
        "  n_samples = 5\n",
        "  \n",
        "\n",
        "  images = generator.predict(gray_images)\n",
        "  for i in range(n_samples):\n",
        "    plt.subplot(3, n_samples, 1 +i)\n",
        "    plt.axis('off')\n",
        "    plt.imshow(images[i])\n",
        "    plt.title(\"Predicted\")\n",
        "  \n",
        "  for i in range(n_samples):\n",
        "    plt.subplot(3, n_samples, 1 + n_samples + i)\n",
        "    plt.axis('off')\n",
        "    plt.imshow(gray_images[i])\n",
        "    plt.title(\"Gray\")\n",
        "\n",
        "  for i in range(n_samples):\n",
        "    plt.subplot(3, n_samples, 1 + 2*n_samples+i)\n",
        "    plt.axis('off')\n",
        "    plt.imshow(color_images[i])\n",
        "    plt.title(\"GT\")\n",
        "  \n",
        "\n",
        "  filename1 = '%s_generated_plot_%06d.png' % (name, (step+1))\n",
        "  plt.savefig(filename1)\n",
        "  plt.close()"
      ],
      "execution_count": 20,
      "outputs": []
    },
    {
      "cell_type": "code",
      "metadata": {
        "id": "XIyYJMjank_o"
      },
      "source": [
        "def train(epochs,generator,discriminator,chromaGAN,batch_size):\n",
        "  \n",
        "  directory = \n",
        "  n_steps = int(len)"
      ],
      "execution_count": null,
      "outputs": []
    }
  ]
}