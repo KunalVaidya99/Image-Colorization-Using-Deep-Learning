{
  "nbformat": 4,
  "nbformat_minor": 0,
  "metadata": {
    "colab": {
      "name": "noGAN.ipynb",
      "provenance": [],
      "authorship_tag": "ABX9TyPyg1nuGAs4YF6PihIKA3cO",
      "include_colab_link": true
    },
    "kernelspec": {
      "name": "python3",
      "display_name": "Python 3"
    }
  },
  "cells": [
    {
      "cell_type": "markdown",
      "metadata": {
        "id": "view-in-github",
        "colab_type": "text"
      },
      "source": [
        "<a href=\"https://colab.research.google.com/github/KunalVaidya99/Image-Colorization-Using-Deep-Learning/blob/main/noGAN.ipynb\" target=\"_parent\"><img src=\"https://colab.research.google.com/assets/colab-badge.svg\" alt=\"Open In Colab\"/></a>"
      ]
    },
    {
      "cell_type": "code",
      "metadata": {
        "id": "XqMHHrNKvOU1"
      },
      "source": [
        "%tensorflow_version 1.x"
      ],
      "execution_count": null,
      "outputs": []
    },
    {
      "cell_type": "code",
      "metadata": {
        "id": "UqgQtKfYvdFK"
      },
      "source": [
        "from google.colab import drive\r\n",
        "drive.mount(\"/content/gdrive/\")"
      ],
      "execution_count": null,
      "outputs": []
    },
    {
      "cell_type": "code",
      "metadata": {
        "id": "mI79ymX6vd3y"
      },
      "source": [
        "import tensorflow as tf\r\n",
        "import keras\r\n",
        "import keras.backend as K\r\n",
        "from keras.layers import (Conv2D,Conv2DTranspose,UpSampling2D,MaxPooling2D,Input\r\n",
        "                          ,Activation,Concatenate,BatchNormalization,Flatten,Reshape\r\n",
        "                          ,Dense,RepeatVector)\r\n",
        "from keras.optimizers import Adam\r\n",
        "from keras.utils import plot_model\r\n",
        "from keras.models import Model\r\n",
        "import numpy as np\r\n",
        "from keras.preprocessing.image import load_img\r\n",
        "from PIL import Image\r\n",
        "from skimage.color import gray2rgb\r\n",
        "import os\r\n",
        "import random\r\n",
        "import matplotlib.pyplot as plt\r\n",
        "from keras.callbacks import ModelCheckpoint"
      ],
      "execution_count": null,
      "outputs": []
    },
    {
      "cell_type": "code",
      "metadata": {
        "id": "ZAzore6QvgiC"
      },
      "source": [
        "class DataGenerator(keras.utils.Sequence):\r\n",
        " \r\n",
        "  def __init__(self,directory,filenames,batch_size=32,dim=(256,256),n_channels=3,shuffle=True):\r\n",
        "    \r\n",
        "    self.dim=dim\r\n",
        "    self.filenames=filenames\r\n",
        "    self.batch_size=batch_size\r\n",
        "    self.n_channels=n_channels\r\n",
        "    self.shuffle=shuffle\r\n",
        "    self.directory=directory\r\n",
        "    self.on_epoch_end()\r\n",
        "    \r\n",
        " \r\n",
        "  def __len__(self):\r\n",
        "    return int(np.floor(len(self.filenames)/self.batch_size))\r\n",
        " \r\n",
        "  def __getitem__(self,index):\r\n",
        "    \r\n",
        "    batch_files = self.filenames[index*self.batch_size:(index+1)*self.batch_size]\r\n",
        " \r\n",
        "    \r\n",
        " \r\n",
        "    X,Y,resized,gray = self.__data_generation(batch_files)\r\n",
        " \r\n",
        "    return X,Y,resized,gray\r\n",
        " \r\n",
        "  def on_epoch_end(self):\r\n",
        "    if self.shuffle == True :\r\n",
        "      np.random.shuffle(self.filenames)\r\n",
        " \r\n",
        "  def __data_generation(self,batch_files):\r\n",
        " \r\n",
        "    X = np.empty((self.batch_size,*self.dim,1))\r\n",
        "    Y = np.empty((self.batch_size,*self.dim,self.n_channels))\r\n",
        "    resized  = np.empty((self.batch_size,224,224,3))\r\n",
        "    gray = np.empty((self.batch_size,224,224,3))\r\n",
        "    count =0 \r\n",
        "    \r\n",
        " \r\n",
        "    for files in batch_files:\r\n",
        " \r\n",
        "     \r\n",
        "      image = Image.open(self.directory + \"/\" + files)\r\n",
        " \r\n",
        "      if (np.array(image).shape==(256,256,3)) :\r\n",
        " \r\n",
        "        g_image = image\r\n",
        "\r\n",
        "        img = image.resize((224,224))\r\n",
        "        resized[count] = np.array(img)/255\r\n",
        "        g = np.array(img.convert(\"L\"))\r\n",
        "        gray[count] = gray2rgb(g)/255\r\n",
        "\r\n",
        " \r\n",
        "        Y[count,] = (np.array(image))/255\r\n",
        " \r\n",
        "        X[count,] = (np.expand_dims(np.array(g_image.convert(\"L\")),axis=-1))/255\r\n",
        " \r\n",
        "        count = count + 1\r\n",
        " \r\n",
        "    return X,Y,resized,gray"
      ],
      "execution_count": null,
      "outputs": []
    },
    {
      "cell_type": "code",
      "metadata": {
        "id": "Wft2e7kcwOWf"
      },
      "source": [
        "directory = \"/content/gdrive/My Drive/val_256\"\r\n",
        "filenames = os.listdir(directory)\r\n",
        "random.shuffle(filenames)\r\n",
        "split_size = 0.1\r\n",
        "train_files = filenames[int(split_size*len(filenames)):len(filenames)]\r\n",
        "test_files = filenames[:int(split_size*len(filenames))]\r\n",
        "TrainGenerator = DataGenerator(directory,train_files)\r\n",
        "TestGenerator = DataGenerator(directory,test_files)\r\n",
        "img_shape = (256,256,1)"
      ],
      "execution_count": null,
      "outputs": []
    },
    {
      "cell_type": "code",
      "metadata": {
        "id": "v7sTfJOrwhYn"
      },
      "source": [
        ""
      ],
      "execution_count": null,
      "outputs": []
    }
  ]
}